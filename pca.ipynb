{
 "cells": [
  {
   "cell_type": "markdown",
   "metadata": {},
   "source": [
    "## Importing Data"
   ]
  },
  {
   "cell_type": "markdown",
   "metadata": {},
   "source": [
    "### Import required libraries"
   ]
  },
  {
   "cell_type": "code",
   "execution_count": 1,
   "metadata": {},
   "outputs": [],
   "source": [
    "import numpy as np\n",
    "from pylab import * # import some shortcuts to plotting functionality"
   ]
  },
  {
   "cell_type": "markdown",
   "metadata": {},
   "source": [
    "### Import data from \"pca_data.csv\""
   ]
  },
  {
   "cell_type": "code",
   "execution_count": 3,
   "metadata": {},
   "outputs": [],
   "source": [
    "X = np.genfromtxt('pca_data.csv', delimiter=',')\n",
    "X = X[1:,:] # Remove the headers"
   ]
  },
  {
   "cell_type": "markdown",
   "metadata": {},
   "source": [
    "### Find index of good meat/bad meat/good berries"
   ]
  },
  {
   "cell_type": "markdown",
   "metadata": {},
   "source": [
    "#### Key for status, food and batch column values\n",
    "Status: Good = 1, Bad = 0;\n",
    "\n",
    "Food: Meat = 1, Berries = 0;\n",
    "\n",
    "Batch: A = 1, B = 2, C = 3, D = 4, E = 5;"
   ]
  },
  {
   "cell_type": "code",
   "execution_count": 4,
   "metadata": {},
   "outputs": [],
   "source": [
    "status = X[:,5]\n",
    "food = X[:, 6]\n",
    "batch = X[:, 7]\n",
    "\n",
    "gm = [index for index, value in enumerate(status) if (status[index] == 1 and food[index] == 1)]\n",
    "bm = [index for index, value in enumerate(status) if (status[index] == 0 and food[index] == 1)]\n",
    "gb = [index for index, value in enumerate(status) if (status[index] == 1 and food[index] == 0)]\n",
    "bb = [index for index, value in enumerate(status) if (status[index] == 0 and food[index] == 0)]\n",
    "\n",
    "good = gm + gb\n",
    "bad = bm + bb\n",
    "\n",
    "all_index = gm + bm + gb + bb\n",
    "X = X[all_index,:]"
   ]
  },
  {
   "cell_type": "markdown",
   "metadata": {},
   "source": [
    "## Principal Component Analysis\n"
   ]
  },
  {
   "cell_type": "markdown",
   "metadata": {},
   "source": [
    "#### PCA Theory\n",
    "\n",
    "What PCA tries to do, is to find linear combinations of the attributes which, when used as new variables, allow the best separation of the data. Another way of saying the same thing is to find new variables whose values \"explain\" the most variation in the data, in order. Yet another way is to imagine the data as an ellipsoidal cloud in the higher dimensional attribute-space, and finding the orthogonal axes of this ellipsoid, in order, first the \"longest\" axis, then the second longest, etc. \n",
    "\n",
    "A formal way of saying this is that first we are looking for a vector $w_1$, such that the data projected onto this vector has the largest variance, i.e. \n",
    "\n",
    "$$\n",
    "w_1 = {\\rm arg} \\max_{w} \\sum_i^N (X_i \\cdot w)^2\n",
    "$$\n",
    "\n",
    "where $X_i$ is the vector corresponding to the attributes of patient $i$. This is equivalent to maximising \n",
    "\n",
    "$$\n",
    "wX^T Xw\n",
    "$$\n",
    "\n",
    "which is achieved by the eigenvector of $X^T X$ with the largest eigenvalue. The second axis of the ellipsoid will be the eigenvector with the second largest eigenvalue, etc. \n",
    "\n",
    "Note that above we implicitly assumed that the mean of the data is zero along all attributes, so we will have to normalise the data to achieve this, i.e. subtract the mean value from each attribute. And since we are only interesting in finding the directions of the orthogonal axes, it is also customary to multiply each attribute by a scalar so that their variances are unity. "
   ]
  },
  {
   "cell_type": "markdown",
   "metadata": {},
   "source": [
    "### Normalising the sensor readings"
   ]
  },
  {
   "cell_type": "code",
   "execution_count": 5,
   "metadata": {},
   "outputs": [],
   "source": [
    "def normalise(x):\n",
    "    ndata,ndim = x.shape # obtain the number of rows and columns\n",
    "    m= x.sum(axis=0)     # compute the mean along each column, and collect it into a vector\n",
    "    #print m\n",
    "    mean = m[np.newaxis,:]/ndata\n",
    "    x0 = x - mean    # subtract the mean divided by the number of rows from each element\n",
    "                                   # the \"np.newaxis\" construct creates identical rows from the same mean value\n",
    "\n",
    "    s = np.sqrt((x0**2).sum(axis=0)/ndata) # now compute the standard deviation of each column\n",
    "    #print x\n",
    "    #print s\n",
    "    ss = np.array([ tmp if tmp != 0 else 1 for tmp in s]) # if the standard deviation is zero, replace it with 1\n",
    "                                                       # to avoid division by zero error\n",
    "    x00 = x0 / ss[np.newaxis,:]    # divide each element by the corresponding standard deviation\n",
    "    return x00, mean[0], ss                    # return the normalised data matrix"
   ]
  },
  {
   "cell_type": "code",
   "execution_count": 6,
   "metadata": {},
   "outputs": [],
   "source": [
    "X0, m , ss = normalise(X[:,:4]) # we only normalise the attributes"
   ]
  },
  {
   "cell_type": "markdown",
   "metadata": {},
   "source": [
    "### Computing the eigenvalues and eigenvectors of $X^T X$"
   ]
  },
  {
   "cell_type": "code",
   "execution_count": 7,
   "metadata": {},
   "outputs": [],
   "source": [
    "# There are several ways to multiply matrices, depending on how they are created. \n",
    "# in the current case, using the matmul() function is one way. \n",
    "XTX = np.matmul(np.transpose(X0), X0) "
   ]
  },
  {
   "cell_type": "code",
   "execution_count": 8,
   "metadata": {},
   "outputs": [],
   "source": [
    "evals,evecs = np.linalg.eigh(XTX)"
   ]
  },
  {
   "cell_type": "code",
   "execution_count": 9,
   "metadata": {},
   "outputs": [
    {
     "data": {
      "text/plain": [
       "array([  2.95475214,  17.73972525,  58.89016909, 176.41535351])"
      ]
     },
     "execution_count": 9,
     "metadata": {},
     "output_type": "execute_result"
    }
   ],
   "source": [
    "evals"
   ]
  },
  {
   "cell_type": "code",
   "execution_count": 10,
   "metadata": {},
   "outputs": [
    {
     "data": {
      "text/plain": [
       "array([[-0.04464964, -0.80549952, -0.27850921, -0.52116174],\n",
       "       [ 0.73342482,  0.2123804 ,  0.31889604, -0.56150504],\n",
       "       [-0.67044968,  0.20723324,  0.48486883, -0.5219711 ],\n",
       "       [ 0.10291585, -0.51295174,  0.76527129,  0.37503159]])"
      ]
     },
     "execution_count": 10,
     "metadata": {},
     "output_type": "execute_result"
    }
   ],
   "source": [
    "evecs"
   ]
  },
  {
   "cell_type": "markdown",
   "metadata": {},
   "source": [
    "### Projection onto PC axes"
   ]
  },
  {
   "cell_type": "code",
   "execution_count": 11,
   "metadata": {},
   "outputs": [],
   "source": [
    "X1 = np.matmul(X0,evecs[:,-1])\n",
    "X2 = np.matmul(X0,evecs[:,-2])\n",
    "X3 = np.matmul(X0,evecs[:,-3])"
   ]
  },
  {
   "cell_type": "markdown",
   "metadata": {},
   "source": [
    "#### PC-2 against PC-1 plot"
   ]
  },
  {
   "cell_type": "code",
   "execution_count": 12,
   "metadata": {},
   "outputs": [
    {
     "data": {
      "image/png": "[encoded data removed]",
      "text/plain": [
       "<Figure size 640x480 with 1 Axes>"
      ]
     },
     "metadata": {},
     "output_type": "display_data"
    }
   ],
   "source": [
    "scatter(X1[gm], X2[gm])\n",
    "scatter(X1[bm], X2[bm])\n",
    "scatter(X1[gb], X2[gb])\n",
    "scatter(X1[bb], X2[bb])\n",
    "legend([\"GM\", \"BM\", \"GB\", \"BB\"])\n",
    "\n",
    "xlabel(\"1st principal component\")\n",
    "ylabel(\"2nd principal component\")\n",
    "plt.show()"
   ]
  },
  {
   "cell_type": "code",
   "execution_count": 13,
   "metadata": {},
   "outputs": [
    {
     "data": {
      "image/png": "[encoded data removed]",
      "text/plain": [
       "<Figure size 640x480 with 1 Axes>"
      ]
     },
     "metadata": {},
     "output_type": "display_data"
    }
   ],
   "source": [
    "scatter(X1[good], X2[good])\n",
    "scatter(X1[bad], X2[bad])\n",
    "legend([\"Good\", \"Bad\"])\n",
    "\n",
    "xlabel(\"1st principal component\")\n",
    "ylabel(\"2nd principal component\")\n",
    "plt.show()\n"
   ]
  },
  {
   "cell_type": "markdown",
   "metadata": {},
   "source": [
    "#### Cluster centroids"
   ]
  },
  {
   "cell_type": "code",
   "execution_count": 14,
   "metadata": {},
   "outputs": [],
   "source": [
    "good_mean = np.array([np.mean(X1[good]), np.mean(X2[good])])\n",
    "bad_mean = np.array([np.mean(X1[bad]), np.mean(X2[bad])])"
   ]
  },
  {
   "cell_type": "markdown",
   "metadata": {},
   "source": [
    "## Useful outputs of this notebook"
   ]
  },
  {
   "cell_type": "markdown",
   "metadata": {},
   "source": [
    "### Mean and standard deviation for standardization"
   ]
  },
  {
   "cell_type": "code",
   "execution_count": 15,
   "metadata": {},
   "outputs": [
    {
     "name": "stdout",
     "output_type": "stream",
     "text": [
      "The mean values are [565.765625 112.328125  28.203125 198.34375 ]\n",
      "The standard deviations are [57.631844   83.09822025 15.09364486 29.56677757]\n"
     ]
    }
   ],
   "source": [
    "print(f\"The mean values are {m}\")\n",
    "print(f\"The standard deviations are {ss}\")"
   ]
  },
  {
   "cell_type": "markdown",
   "metadata": {},
   "source": [
    "### PC-1, PC-2 and PC-3 axes"
   ]
  },
  {
   "cell_type": "code",
   "execution_count": 16,
   "metadata": {},
   "outputs": [
    {
     "name": "stdout",
     "output_type": "stream",
     "text": [
      "PC1 axis is [-0.52116174 -0.56150504 -0.5219711   0.37503159], with corresponding eigenvalue 176.4\n",
      "PC2 axis is [-0.27850921  0.31889604  0.48486883  0.76527129], with corresponding eigenvalue 58.9\n",
      "PC3 axis is [-0.80549952  0.2123804   0.20723324 -0.51295174], with corresponding eigenvalue 17.7\n"
     ]
    }
   ],
   "source": [
    "for i in range(3):\n",
    "    print(f\"PC{i+1} axis is {evecs[:,-(i+1)]}, with corresponding eigenvalue {evals[-(i+1)]:.1f}\")"
   ]
  },
  {
   "cell_type": "markdown",
   "metadata": {},
   "source": [
    "### Centroids of clusters"
   ]
  },
  {
   "cell_type": "code",
   "execution_count": 17,
   "metadata": {},
   "outputs": [
    {
     "name": "stdout",
     "output_type": "stream",
     "text": [
      "The centroid for cluster good is [1.16189819 0.36969963]\n",
      "The centroid for cluster bad is [-1.16189819 -0.36969963]\n"
     ]
    }
   ],
   "source": [
    "categories = [\"good\", \"bad\"]\n",
    "for category in categories:\n",
    "    print(f\"The centroid for cluster {category} is {locals()[category+'_mean']}\")"
   ]
  },
  {
   "cell_type": "markdown",
   "metadata": {},
   "source": [
    "## Categorisation"
   ]
  },
  {
   "cell_type": "markdown",
   "metadata": {},
   "source": [
    "### Inference (with 4 data points only)"
   ]
  },
  {
   "cell_type": "code",
   "execution_count": 18,
   "metadata": {},
   "outputs": [],
   "source": [
    "PC1 = evecs[:,-1]\n",
    "PC2 = evecs[:,-2]"
   ]
  },
  {
   "cell_type": "code",
   "execution_count": 19,
   "metadata": {},
   "outputs": [
    {
     "name": "stdout",
     "output_type": "stream",
     "text": [
      "[-0.56853334 -0.665816   -0.67598815  0.22512599]\n",
      "1.107432506162877 -0.20946744760257524\n",
      "good\n",
      "[ 0.19493346 -0.26869559 -0.477229   -0.68806112]\n",
      "0.04033715044696762 -0.8979236105013085\n",
      "bad\n",
      "[-1.01967282 -0.54547648 -0.27846985  1.40888705]\n",
      "1.5114326287969875 1.0531974365454744\n",
      "good\n",
      "[ 1.60040645  0.22469645 -0.01345765 -0.34984367]\n",
      "-1.084416728845003 -0.6483236352472488\n",
      "bad\n"
     ]
    }
   ],
   "source": [
    "gm_sample = [533, 57, 18, 205]\n",
    "bm_sample = [577, 90, 21, 178]\n",
    "gb_sample = [507, 67, 24, 240]\n",
    "bb_sample = [658, 131, 28, 188]\n",
    "\n",
    "def inference4(co2, ammonia, ethanol, methane):\n",
    "    data = np.array([co2, ammonia, ethanol, methane])\n",
    "    data = (data-m)/ss\n",
    "    print(data)\n",
    "    x = np.matmul(data, evecs[:,-1])\n",
    "    y = np.matmul(data, evecs[:,-2])\n",
    "\n",
    "    print(x,y)\n",
    "    data_point = np.array([x, y])\n",
    "    dg = np.linalg.norm(data_point - good_mean)\n",
    "    db = np.linalg.norm(data_point - bad_mean)\n",
    "\n",
    "    if dg < db:\n",
    "        print(\"good\")\n",
    "    else:\n",
    "        print(\"bad\")\n",
    "    return data_point\n",
    "\n",
    "gm_pt = inference4(*gm_sample)\n",
    "bm_pt = inference4(*bm_sample)\n",
    "gb_pt = inference4(*gb_sample)\n",
    "bb_pt = inference4(*bb_sample)"
   ]
  },
  {
   "cell_type": "markdown",
   "metadata": {},
   "source": [
    "## Plotting sensor readings"
   ]
  },
  {
   "cell_type": "markdown",
   "metadata": {},
   "source": [
    "### Plotting data"
   ]
  },
  {
   "cell_type": "code",
   "execution_count": 20,
   "metadata": {},
   "outputs": [
    {
     "name": "stdout",
     "output_type": "stream",
     "text": [
      "[ 0.24698802 -0.55751044 -0.0797107  -0.78952635]\n",
      "-0.07016643025736871 -0.8894273941316737\n",
      "bad\n"
     ]
    },
    {
     "data": {
      "image/png": "[encoded data removed]",
      "text/plain": [
       "<Figure size 640x480 with 1 Axes>"
      ]
     },
     "metadata": {},
     "output_type": "display_data"
    }
   ],
   "source": [
    "data = \"580 66.00 27.00 175.00\".split()\n",
    "data = [float(val) for val in data]\n",
    "data_pt = inference4(*data)\n",
    "\n",
    "scatter(X1[good], X2[good])\n",
    "scatter(X1[bad], X2[bad])\n",
    "legend([\"Good\", \"Bad\"])\n",
    "\n",
    "scatter(data_pt[0], data_pt[1])\n",
    "\n",
    "xlabel(\"1st principal component\")\n",
    "ylabel(\"2nd principal component\")\n",
    "plt.show()"
   ]
  }
 ],
 "metadata": {
  "kernelspec": {
   "display_name": "part1a",
   "language": "python",
   "name": "python3"
  },
  "language_info": {
   "codemirror_mode": {
    "name": "ipython",
    "version": 3
   },
   "file_extension": ".py",
   "mimetype": "text/x-python",
   "name": "python",
   "nbconvert_exporter": "python",
   "pygments_lexer": "ipython3",
   "version": "3.11.4"
  },
  "orig_nbformat": 4
 },
 "nbformat": 4,
 "nbformat_minor": 2
}
